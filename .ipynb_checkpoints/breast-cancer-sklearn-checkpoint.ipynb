{
 "cells": [
  {
   "cell_type": "code",
   "execution_count": 1,
   "metadata": {
    "collapsed": false
   },
   "outputs": [],
   "source": [
    "from sklearn.datasets import load_breast_cancer\n",
    "from sklearn.linear_model import LogisticRegression\n",
    "from sklearn.model_selection import train_test_split"
   ]
  },
  {
   "cell_type": "code",
   "execution_count": 2,
   "metadata": {
    "collapsed": false
   },
   "outputs": [
    {
     "name": "stdout",
     "output_type": "stream",
     "text": [
      "accuracy: 0.9298245614035088\n"
     ]
    }
   ],
   "source": [
    "def preprocess(cancer):\n",
    "    data = cancer.data\n",
    "    target = cancer.target\n",
    "    x_train, x_test, y_train, y_test = train_test_split(data, target, test_size=0.1)\n",
    "    return x_train, x_test, y_train, y_test\n",
    "\n",
    "if __name__ == '__main__':\n",
    "    cancer = load_breast_cancer()\n",
    "#     print(cancer.DESCR)\n",
    "    x_train, x_test, y_train, y_test = preprocess(cancer)\n",
    "    regr = LogisticRegression(max_iter=200, solver='lbfgs')\n",
    "    regr.fit(x_train, y_train)\n",
    "    y_pred = regr.predict(x_test)\n",
    "    correct = 0\n",
    "    for i in range(len(y_test)):\n",
    "        if y_test[i] == y_pred[i]:\n",
    "            correct += 1\n",
    "    print('accuracy: {}'.format(correct/len(y_test)))"
   ]
  }
 ],
 "metadata": {
  "kernelspec": {
   "display_name": "Python 3",
   "language": "python",
   "name": "python3"
  },
  "language_info": {
   "codemirror_mode": {
    "name": "ipython",
    "version": 3
   },
   "file_extension": ".py",
   "mimetype": "text/x-python",
   "name": "python",
   "nbconvert_exporter": "python",
   "pygments_lexer": "ipython3",
   "version": "3.6.0"
  }
 },
 "nbformat": 4,
 "nbformat_minor": 2
}
